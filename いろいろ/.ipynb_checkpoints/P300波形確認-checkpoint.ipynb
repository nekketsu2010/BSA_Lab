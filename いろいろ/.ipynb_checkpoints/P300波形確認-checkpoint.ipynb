{
 "cells": [
  {
   "cell_type": "code",
   "execution_count": 7,
   "metadata": {},
   "outputs": [
    {
     "data": {
      "text/html": [
       "<style>.container { width:90% !important; }</style>"
      ],
      "text/plain": [
       "<IPython.core.display.HTML object>"
      ]
     },
     "metadata": {},
     "output_type": "display_data"
    }
   ],
   "source": [
    "import numpy as np\n",
    "import os\n",
    "import random\n",
    "import scipy\n",
    "from scipy.interpolate import griddata\n",
    "from scipy import signal\n",
    "from numpy.fft import fft\n",
    "from sklearn.metrics import confusion_matrix\n",
    "from sklearn.metrics import f1_score\n",
    "\n",
    "import tensorflow as tf\n",
    "from tensorflow.keras import layers, models\n",
    "from tensorflow.keras.initializers import he_normal\n",
    "\n",
    "from sklearn.model_selection import train_test_split\n",
    "\n",
    "import pandas as pd\n",
    "import pickle\n",
    "\n",
    "import seaborn as sns\n",
    "sns.set(font='Yu Gothic')\n",
    "import matplotlib.pyplot as plt\n",
    "%matplotlib inline\n",
    "\n",
    "import warnings\n",
    "warnings.simplefilter(action='ignore', category=RuntimeWarning)\n",
    "\n",
    "from IPython.core.display import display, HTML\n",
    "display(HTML(\"<style>.container { width:90% !important; }</style>\"))"
   ]
  },
  {
   "cell_type": "code",
   "execution_count": 8,
   "metadata": {},
   "outputs": [],
   "source": [
    "# Emotiv EPOC+ channels\n",
    "channels = ['AF3', 'F7', 'F3', 'FC5', 'T7', 'P7', 'O1', 'O2', 'P8', 'T8', 'FC6', 'F4', 'F8', 'AF4']\n",
    "\n",
    "# words matrix marker number\n",
    "A = [0, 6]; B = [0, 7]; C = [0, 8]; D = [0, 9]; E = [0, 10]; F = [0, 11]\n",
    "G = [1, 6]; H = [1, 7]; I = [1, 8]; J = [1, 9]; K = [1, 10]; L = [1, 11]\n",
    "M = [2, 6]; N = [2, 7]; O = [2, 8]; P = [2, 9]; Q = [2, 10]; R = [2, 11]\n",
    "S = [3, 6]; T = [3, 7]; U = [3, 8]; V = [3, 9]; W = [3, 10]; X = [3, 11]\n",
    "Y = [4, 6]; Z = [4, 7]; num_0 = [4, 8]; num_1 = [4, 9]; num_2 = [4, 10]; num_3 = [4, 11]\n",
    "num_4 = [5, 6]; num_5 = [5, 7]; num_6 = [5, 8]; num_7 = [5, 9]; num_8 = [5, 10]; num_9 = [5, 11]"
   ]
  },
  {
   "cell_type": "code",
   "execution_count": 16,
   "metadata": {},
   "outputs": [
    {
     "data": {
      "text/plain": [
       "['alpha_wave_03.11.20_23.18.11.md.csv', 'normal_03.11.20_23.16.54.md.csv']"
      ]
     },
     "execution_count": 16,
     "metadata": {},
     "output_type": "execute_result"
    }
   ],
   "source": [
    "files = os.listdir(\"201103/\")\n",
    "files"
   ]
  },
  {
   "cell_type": "code",
   "execution_count": 15,
   "metadata": {},
   "outputs": [],
   "source": [
    "# read the file\n",
    "def read_file(file_name):\n",
    "    x = pd.read_csv(file_name, skiprows=1)\n",
    "    x = x.values[:, 3:22]\n",
    "    return x"
   ]
  },
  {
   "cell_type": "code",
   "execution_count": 14,
   "metadata": {},
   "outputs": [],
   "source": [
    "def check_marker_diff(x):\n",
    "    diff = np.diff(np.where(x[:, -1] >= 0)[0])\n",
    "    \n",
    "    print(\"平均\", np.round(np.mean(diff) / 128, 4))\n",
    "    print(\"標準偏差\", np.round(np.std(diff) / 128, 4))\n",
    "    print(\"max\", np.round(np.max(diff) / 128, 4))\n",
    "    print(\"min\", np.round(np.min(diff)/ 128, 4))"
   ]
  },
  {
   "cell_type": "code",
   "execution_count": 10,
   "metadata": {},
   "outputs": [],
   "source": [
    "Fs = 128\n",
    "# firフィルタを適用する\n",
    "def firFilter(x):\n",
    "    # fir filter\n",
    "    b = signal.firwin(511, [1.0/(Fs/2), 15.0/(Fs/2)], pass_zero=False)\n",
    "    x[:, :-1] = signal.filtfilt(b, 1, x[:, :-1], axis=0)\n",
    "    return x"
   ]
  },
  {
   "cell_type": "code",
   "execution_count": 11,
   "metadata": {},
   "outputs": [],
   "source": [
    "# triggerからNポイント抽出する\n",
    "N = 128\n",
    "def triggerExtract(x, trigger):\n",
    "    triggers = np.where(x[:, -1] == trigger)[0]\n",
    "    print(len(triggers))\n",
    "    result = np.zeros((len(triggers), N, x.shape[1]))\n",
    "    i = 0\n",
    "    for tmp in triggers:\n",
    "        tmp = x[tmp:tmp+N].reshape([1, -1, x.shape[1]])\n",
    "        if tmp.shape[1] == N:\n",
    "            result[i] = tmp\n",
    "            i += 1\n",
    "    return result"
   ]
  },
  {
   "cell_type": "code",
   "execution_count": 12,
   "metadata": {},
   "outputs": [],
   "source": [
    "# 波形の加算平均をとる\n",
    "def WaveAverage(x):\n",
    "    result = np.zeros((x.shape[1], x.shape[2]))\n",
    "    for i in range(x.shape[0]):\n",
    "        result += x[i]\n",
    "    result = result / x.shape[0]\n",
    "    return result"
   ]
  },
  {
   "cell_type": "code",
   "execution_count": 13,
   "metadata": {},
   "outputs": [],
   "source": [
    "def preprocess(x, ttarget, ntarget):\n",
    "    x = firFilter(x)\n",
    "    ttrigger = triggerExtract(x, [2, 8])\n",
    "    ntrigger = triggerExtract(x, [0, 1, 3, 4, 5, 6, 7, 9, 10, 11])\n",
    "    ttrigger_ave = WaveAverage(ttrigger)\n",
    "    ntrigger_ave = WaveAverage(ntrigger)\n",
    "    \n",
    "    tt = np.linspace(0, 1, ttrigger.shape[1])\n",
    "    channel = 15\n",
    "    plt.figure(figsize=(24, 18))\n",
    "    plt.subplots_adjust(wspace=0.4, hspace=0.8)\n",
    "    for i in range(len(channels)):\n",
    "        plt.subplot(8, 4, i+1)\n",
    "        plt.plot(tt, ttrigger_ave[:, i], 'r', label=\"target\")\n",
    "        plt.plot(tt, ntrigger_ave[:, i], 'b', label=\"nontarget\")\n",
    "        plt.xticks(np.arange(0, 1.1, 0.1))\n",
    "        plt.xlabel(\"Second[s]\")\n",
    "        plt.ylabel(\"Amplitude[μV]\")\n",
    "        plt.title(channels[i], fontsize=18)"
   ]
  },
  {
   "cell_type": "code",
   "execution_count": null,
   "metadata": {},
   "outputs": [],
   "source": [
    "X = read_file()"
   ]
  }
 ],
 "metadata": {
  "kernelspec": {
   "display_name": "Python 3",
   "language": "python",
   "name": "python3"
  },
  "language_info": {
   "codemirror_mode": {
    "name": "ipython",
    "version": 3
   },
   "file_extension": ".py",
   "mimetype": "text/x-python",
   "name": "python",
   "nbconvert_exporter": "python",
   "pygments_lexer": "ipython3",
   "version": "3.7.6"
  }
 },
 "nbformat": 4,
 "nbformat_minor": 4
}
