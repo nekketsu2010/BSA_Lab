{
 "cells": [
  {
   "cell_type": "code",
   "execution_count": 1,
   "metadata": {},
   "outputs": [
    {
     "data": {
      "text/html": [
       "<style>.container { width:90% !important; }</style>"
      ],
      "text/plain": [
       "<IPython.core.display.HTML object>"
      ]
     },
     "metadata": {},
     "output_type": "display_data"
    }
   ],
   "source": [
    "import numpy as np\n",
    "import os\n",
    "import random\n",
    "import scipy\n",
    "from scipy.interpolate import griddata\n",
    "from scipy import signal\n",
    "from numpy.fft import fft\n",
    "\n",
    "import pandas as pd\n",
    "import pickle\n",
    "\n",
    "import seaborn as sns\n",
    "sns.set(font='Yu Gothic')\n",
    "import matplotlib\n",
    "import matplotlib.pyplot as plt\n",
    "%matplotlib inline\n",
    "\n",
    "import warnings\n",
    "warnings.simplefilter(action='ignore')\n",
    "\n",
    "from IPython.core.display import display, HTML\n",
    "display(HTML(\"<style>.container { width:90% !important; }</style>\"))"
   ]
  },
  {
   "cell_type": "code",
   "execution_count": 46,
   "metadata": {},
   "outputs": [],
   "source": [
    "Fs = 128\n",
    "channels = ['EEG.Cz', 'EEG.FCz',\n",
    "       'EEG.Fz', 'EEG.Fp1', 'EEG.F7', 'EEG.F3', 'EEG.F1', 'EEG.C1', 'EEG.C3',\n",
    "       'EEG.FC3', 'EEG.T7', 'EEG.CP3', 'EEG.P1', 'EEG.P3', 'EEG.P7', 'EEG.O1',\n",
    "       'EEG.CPz', 'EEG.Pz', 'EEG.Oz', 'EEG.O2', 'EEG.P8', 'EEG.P4', 'EEG.P2',\n",
    "       'EEG.CP4', 'EEG.T8', 'EEG.FC4', 'EEG.C4', 'EEG.C2', 'EEG.F2', 'EEG.F4',\n",
    "       'EEG.F8', 'EEG.Fp2']"
   ]
  },
  {
   "cell_type": "code",
   "execution_count": 47,
   "metadata": {},
   "outputs": [],
   "source": [
    "def csv_listdir(path):\n",
    "    return [tmp for tmp in os.listdir(path) if \".csv\" in tmp]\n",
    "\n",
    "# firフィルタを適用する\n",
    "def firFilter(x):\n",
    "    # fir filter\n",
    "    b = signal.firwin(511, [1.0/(Fs/2), 15.0/(Fs/2)], pass_zero=False)\n",
    "    x[:, :-1] = signal.filtfilt(b, 1, x[:, :-1], axis=0)\n",
    "    return x\n",
    "\n",
    "# triggerからNポイント抽出する\n",
    "n = 128\n",
    "def triggerExtract(x, trigger):\n",
    "    triggers = np.where(x[:, -1] == trigger)[0]\n",
    "#     print(trigger, \"：\", len(triggers))\n",
    "    result = np.zeros((len(triggers), n, x.shape[1]))\n",
    "    i = 0\n",
    "    for tmp in triggers:\n",
    "        tmp = x[tmp:tmp+n].reshape([1, -1, x.shape[1]])\n",
    "        if tmp.shape[1] == n:\n",
    "            result[i] = tmp\n",
    "            i += 1\n",
    "    return result\n",
    "\n",
    "# 複数のトリガーを取得\n",
    "def triggersExtract(x, triggers):\n",
    "    target = triggerExtract(x, triggers[0])\n",
    "    for num in triggers[1:]:\n",
    "        target = np.concatenate([target, triggerExtract(x, num)], axis=0)\n",
    "    return target\n",
    "\n",
    "# 波形の加算平均をとる\n",
    "def WaveAverage(x):\n",
    "    result = np.zeros((x.shape[1], x.shape[2]))\n",
    "    for i in range(x.shape[0]):\n",
    "        result += x[i]\n",
    "    result = result / x.shape[0]\n",
    "    return result[:, :14]\n",
    "\n",
    "def plot_average(target, nontarget):\n",
    "    target_ave = WaveAverage(target)\n",
    "    nontarget_ave = WaveAverage(nontarget)\n",
    "    tt = np.linspace(0, 1, target.shape[1])\n",
    "    channel = 15\n",
    "    plt.figure(figsize=(24, 18))\n",
    "    plt.subplots_adjust(wspace=0.4, hspace=0.4)\n",
    "    for i in range(len(channels)):\n",
    "        plt.subplot(8, 4, i+1)\n",
    "        plt.plot(tt, target_ave[:, i], 'r', label=\"target\")\n",
    "        plt.plot(tt, nontarget_ave[:, i], 'b', label=\"nontarget\")\n",
    "        plt.xticks(np.arange(0, 1.1, 0.1))\n",
    "        plt.xlabel(\"Second[s]\")\n",
    "        plt.ylabel(\"Amplitude[μV]\")\n",
    "        plt.ylim(-12, 15)\n",
    "        plt.title(channels[i], fontsize=18)\n",
    "    plt.show()"
   ]
  },
  {
   "cell_type": "code",
   "execution_count": 2,
   "metadata": {},
   "outputs": [
    {
     "data": {
      "text/plain": [
       "['hand1_1_29.10.20_14.18.33.csv',\n",
       " 'hand1_29.10.20_13.51.25.csv',\n",
       " 'hand1_2_29.10.20_14.23.07.csv',\n",
       " 'hand1_3_29.10.20_14.28.13.csv',\n",
       " 'hand1_4_29.10.20_14.50.14.csv',\n",
       " 'hand1_5_29.10.20_14.55.03.csv',\n",
       " 'readme.txt']"
      ]
     },
     "execution_count": 2,
     "metadata": {},
     "output_type": "execute_result"
    }
   ],
   "source": [
    "os.listdir(\"201029_data_exp1\")"
   ]
  },
  {
   "cell_type": "code",
   "execution_count": 40,
   "metadata": {},
   "outputs": [],
   "source": [
    "def load_data(path):\n",
    "    x = pd.read_csv(path, skiprows=1)\n",
    "    x = x.values\n",
    "    index = list(range(3, 3+32))\n",
    "    index.append(41)\n",
    "    x = x[:, index].astype(np.float)\n",
    "    return x"
   ]
  },
  {
   "cell_type": "code",
   "execution_count": 63,
   "metadata": {
    "scrolled": true
   },
   "outputs": [
    {
     "data": {
      "text/plain": [
       "(22818, 33)"
      ]
     },
     "execution_count": 63,
     "metadata": {},
     "output_type": "execute_result"
    }
   ],
   "source": [
    "X = load_data(\"201029_data_exp1/hand1_1_29.10.20_14.18.33.csv\")\n",
    "X.shape"
   ]
  },
  {
   "cell_type": "code",
   "execution_count": 64,
   "metadata": {},
   "outputs": [
    {
     "data": {
      "text/plain": [
       "(10, 128, 33)"
      ]
     },
     "execution_count": 64,
     "metadata": {},
     "output_type": "execute_result"
    }
   ],
   "source": [
    "x0 = triggerExtract(X, 0)\n",
    "x0.shape"
   ]
  },
  {
   "cell_type": "code",
   "execution_count": 73,
   "metadata": {},
   "outputs": [
    {
     "data": {
      "text/plain": [
       "(1024, 2048)"
      ]
     },
     "execution_count": 73,
     "metadata": {},
     "output_type": "execute_result"
    },
    {
     "data": {
      "image/png": "[encoded data removed]",
      "text/plain": [
       "<Figure size 1152x576 with 1 Axes>"
      ]
     },
     "metadata": {
      "needs_background": "light"
     },
     "output_type": "display_data"
    }
   ],
   "source": [
    "X[np.isnan(X)] = -1\n",
    "plt.figure(figsize=(16, 8))\n",
    "plt.plot(X[:, -1])\n",
    "plt.xlim(1024, 2048)"
   ]
  },
  {
   "cell_type": "code",
   "execution_count": null,
   "metadata": {},
   "outputs": [],
   "source": []
  }
 ],
 "metadata": {
  "kernelspec": {
   "display_name": "Python 3",
   "language": "python",
   "name": "python3"
  },
  "language_info": {
   "codemirror_mode": {
    "name": "ipython",
    "version": 3
   },
   "file_extension": ".py",
   "mimetype": "text/x-python",
   "name": "python",
   "nbconvert_exporter": "python",
   "pygments_lexer": "ipython3",
   "version": "3.7.6"
  }
 },
 "nbformat": 4,
 "nbformat_minor": 4
}
