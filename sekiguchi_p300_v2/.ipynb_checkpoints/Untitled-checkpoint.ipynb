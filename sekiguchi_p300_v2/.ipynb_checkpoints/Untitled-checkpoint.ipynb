{
 "cells": [
  {
   "cell_type": "code",
   "execution_count": 1,
   "metadata": {},
   "outputs": [
    {
     "data": {
      "text/html": [
       "<style>.container { width:90% !important; }</style>"
      ],
      "text/plain": [
       "<IPython.core.display.HTML object>"
      ]
     },
     "metadata": {},
     "output_type": "display_data"
    }
   ],
   "source": [
    "import numpy as np\n",
    "import os\n",
    "import random\n",
    "import scipy\n",
    "from scipy.interpolate import griddata\n",
    "from scipy import signal\n",
    "from numpy.fft import fft\n",
    "from sklearn.metrics import confusion_matrix\n",
    "from sklearn.metrics import f1_score\n",
    "\n",
    "import tensorflow as tf\n",
    "from tensorflow.keras import layers, models\n",
    "from tensorflow.keras.initializers import he_normal\n",
    "\n",
    "from sklearn.model_selection import train_test_split\n",
    "\n",
    "import pandas as pd\n",
    "import pickle\n",
    "\n",
    "import seaborn as sns\n",
    "sns.set(font='Yu Gothic')\n",
    "import matplotlib.pyplot as plt\n",
    "%matplotlib inline\n",
    "\n",
    "import warnings\n",
    "warnings.simplefilter(action='ignore', category=RuntimeWarning)\n",
    "\n",
    "from IPython.core.display import display, HTML\n",
    "display(HTML(\"<style>.container { width:90% !important; }</style>\"))"
   ]
  },
  {
   "cell_type": "code",
   "execution_count": null,
   "metadata": {},
   "outputs": [],
   "source": [
    "channels = ['AF3', 'F7', 'F3', 'FC5', 'T7', 'P7', 'O1', 'O2', 'P8', 'T8', 'FC6', 'F4', 'F8', 'AF4']\n",
    "channels"
   ]
  },
  {
   "cell_type": "code",
   "execution_count": null,
   "metadata": {
    "scrolled": true
   },
   "outputs": [],
   "source": [
    "files = os.listdir(\"201103/\")\n",
    "files"
   ]
  },
  {
   "cell_type": "code",
   "execution_count": null,
   "metadata": {},
   "outputs": [],
   "source": [
    "O = pd.read_csv(\"201103/Sekiguchi_O_03.11.20_23.28.22.md.csv\", skiprows=1)\n",
    "O"
   ]
  },
  {
   "cell_type": "code",
   "execution_count": null,
   "metadata": {},
   "outputs": [],
   "source": [
    "O = O.values[:, 3:22]\n",
    "O.shape"
   ]
  },
  {
   "cell_type": "code",
   "execution_count": null,
   "metadata": {},
   "outputs": [],
   "source": [
    "plt.figure(figsize=(24, 16))\n",
    "plt.plot(O[:, 0:-5])\n",
    "plt.show()"
   ]
  },
  {
   "cell_type": "code",
   "execution_count": null,
   "metadata": {},
   "outputs": [],
   "source": [
    "tt = np.linspace(0, O.shape[0]//128, O.shape[0])\n",
    "plt.figure(figsize=(24, 16))\n",
    "plt.plot(tt, O[:, 0:-5])\n",
    "plt.xlim(30, 30.5)\n",
    "plt.xlabel(\"Time[Second]\")\n",
    "plt.ylabel(\"Amplitude\")\n",
    "plt.show()"
   ]
  },
  {
   "cell_type": "code",
   "execution_count": null,
   "metadata": {},
   "outputs": [],
   "source": [
    "Fs = 128\n",
    "# firフィルタを適用する\n",
    "def firFilter(x):\n",
    "    # fir filter\n",
    "    b = signal.firwin(511, [1.0/(Fs/2), 15.0/(Fs/2)], pass_zero=False)\n",
    "    x[:, :-1] = signal.filtfilt(b, 1, x[:, :-1], axis=0)\n",
    "    return x"
   ]
  },
  {
   "cell_type": "code",
   "execution_count": null,
   "metadata": {},
   "outputs": [],
   "source": [
    "# triggerからNポイント抽出する\n",
    "N = 128\n",
    "def triggerExtract(x, trigger):\n",
    "    triggers = np.where(x[:, -1] == trigger)[0]\n",
    "    print(len(triggers))\n",
    "    if trigger == -1:\n",
    "        triggers = triggers[:-2]\n",
    "        result = np.zeros((len(triggers), N, x.shape[1]))\n",
    "    else:\n",
    "        result = np.zeros((len(triggers), N, x.shape[1]))\n",
    "    i = 0\n",
    "    for tmp in triggers:\n",
    "        tmp = x[tmp:tmp+N].reshape([1, -1, x.shape[1]])\n",
    "        if tmp.shape[1] == N:\n",
    "            result[i] = tmp\n",
    "            i += 1\n",
    "    return result"
   ]
  },
  {
   "cell_type": "code",
   "execution_count": null,
   "metadata": {},
   "outputs": [],
   "source": [
    "# 波形の加算平均をとる\n",
    "def WaveAverage(x):\n",
    "    result = np.zeros((x.shape[1], x.shape[2]))\n",
    "    for i in range(x.shape[0]):\n",
    "        result += x[i]\n",
    "    result = result / x.shape[0]\n",
    "    return result"
   ]
  },
  {
   "cell_type": "code",
   "execution_count": null,
   "metadata": {},
   "outputs": [],
   "source": [
    "def preprocess(x):\n",
    "    x = firFilter(x)\n",
    "    ttrigger = triggerExtract(x, [2, 8])\n",
    "    ntrigger = triggerExtract(x, [0, 1, 3, 4, 5, 6, 7, 9, 10, 11])\n",
    "    ttrigger_ave = WaveAverage(ttrigger)\n",
    "    ntrigger_ave = WaveAverage(ntrigger)\n",
    "    \n",
    "    tt = np.linspace(0, 1, ttrigger.shape[1])\n",
    "    channel = 15\n",
    "    plt.figure(figsize=(24, 18))\n",
    "    plt.subplots_adjust(wspace=0.4, hspace=0.8)\n",
    "    for i in range(len(channels)):\n",
    "        plt.subplot(8, 4, i+1)\n",
    "        plt.plot(tt, ttrigger_ave[:, i], 'r', label=\"target\")\n",
    "        plt.plot(tt, ntrigger_ave[:, i], 'b', label=\"nontarget\")\n",
    "        plt.xticks(np.arange(0, 1.1, 0.1))\n",
    "        plt.xlabel(\"Second[s]\")\n",
    "        plt.ylabel(\"Amplitude[μV]\")\n",
    "        plt.title(channels[i], fontsize=18)\n",
    "#     plt.legend()\n",
    "    return ttrigger_ave, ntrigger_ave"
   ]
  },
  {
   "cell_type": "code",
   "execution_count": null,
   "metadata": {},
   "outputs": [],
   "source": [
    "tt = np.linspace(0, 2, O[:, 0].shape[0])\n",
    "channel = 15\n",
    "plt.figure(figsize=(24, 18))\n",
    "plt.subplots_adjust(wspace=0.4, hspace=0.8)\n",
    "for i in range(len(channels)):\n",
    "    plt.subplot(4, 4, i+1)\n",
    "    plt.plot(tt, O[:, i])\n",
    "    plt.xlabel(\"Second[s]\")\n",
    "    plt.ylabel(\"Amplitude[μV]\")\n",
    "    plt.xticks(np.arange(0, 2.25, 0.25))\n",
    "    plt.title(channels[i], fontsize=18)"
   ]
  },
  {
   "cell_type": "code",
   "execution_count": null,
   "metadata": {},
   "outputs": [],
   "source": [
    "O = firFilter(O)"
   ]
  },
  {
   "cell_type": "code",
   "execution_count": null,
   "metadata": {},
   "outputs": [],
   "source": [
    "O_target = triggerExtract(O, 2)\n",
    "O_target = np.concatenate([O_target, triggerExtract(O, 8)], axis=0)\n",
    "\n",
    "O_nontarget = triggerExtract(O, 0)\n",
    "for num in [0, 1, 3, 4, 5, 6, 7, 9, 10, 11]:\n",
    "    O_nontarget = np.concatenate([O_nontarget, triggerExtract(O, num)], axis=0)\n",
    "\n",
    "O_target.shape, O_nontarget.shape"
   ]
  },
  {
   "cell_type": "code",
   "execution_count": null,
   "metadata": {},
   "outputs": [],
   "source": [
    "tt = np.linspace(0, 1, O_target.shape[1])\n",
    "\n",
    "plt.figure(figsize=(24, 18))\n",
    "plt.subplots_adjust(wspace=0.4, hspace=0.4)\n",
    "for i in range(len(channels)):\n",
    "    plt.subplot(4, 4, i+1)\n",
    "    plt.plot(tt, O_target[5, :, i], 'r', label='target')\n",
    "    plt.plot(tt, O_nontarget[5, :, i], 'b', label='nontarget')\n",
    "    plt.xticks(np.arange(0, 1.1, 0.1))\n",
    "    plt.xlabel(\"Second[s]\")\n",
    "    plt.ylabel(\"Amplitude[μV]\")\n",
    "    plt.title(channels[i], fontsize=18)\n",
    "    plt.legend()"
   ]
  },
  {
   "cell_type": "code",
   "execution_count": null,
   "metadata": {},
   "outputs": [],
   "source": [
    "O_target_ave = WaveAverage(O_target)\n",
    "O_nontarget_ave = WaveAverage(O_nontarget)\n",
    "\n",
    "O_target_ave.shape, O_nontarget_ave.shape"
   ]
  },
  {
   "cell_type": "code",
   "execution_count": null,
   "metadata": {},
   "outputs": [],
   "source": [
    "tt = np.linspace(0, 1, O_target.shape[1])\n",
    "channel = 15\n",
    "plt.figure(figsize=(24, 18))\n",
    "plt.subplots_adjust(wspace=0.4, hspace=0.4)\n",
    "for i in range(len(channels)):\n",
    "    plt.subplot(4, 4, i+1)\n",
    "    plt.plot(tt, O_target_ave[:, i], 'r', label=\"target\")\n",
    "    plt.plot(tt, O_nontarget_ave[:, i], 'b', label=\"nontarget\")\n",
    "    plt.xticks(np.arange(0, 1.1, 0.1))\n",
    "    plt.xlabel(\"Second[s]\")\n",
    "    plt.ylabel(\"Amplitude[μV]\")\n",
    "#     plt.xlim(0.1, 0.6)\n",
    "    plt.title(channels[i], fontsize=18)\n",
    "#     plt.legend()"
   ]
  },
  {
   "cell_type": "markdown",
   "metadata": {},
   "source": [
    "## Target(O) vs non Target(A)"
   ]
  },
  {
   "cell_type": "code",
   "execution_count": null,
   "metadata": {},
   "outputs": [],
   "source": [
    "O_target = triggerExtract(O, 2)\n",
    "O_target = np.concatenate([O_target, triggerExtract(O, 8)], axis=0)\n",
    "\n",
    "O_nontarget = triggerExtract(O, 0)\n",
    "for num in [6]:\n",
    "    O_nontarget = np.concatenate([O_nontarget, triggerExtract(O, num)], axis=0)\n",
    "\n",
    "tt = np.linspace(0, 1, O_target.shape[1])\n",
    "\n",
    "plt.figure(figsize=(24, 18))\n",
    "plt.subplots_adjust(wspace=0.4, hspace=0.4)\n",
    "for i in range(len(channels)):\n",
    "    plt.subplot(4, 4, i+1)\n",
    "    plt.plot(tt, O_target[5, :, i], 'r', label='target')\n",
    "    plt.plot(tt, O_nontarget[5, :, i], 'b', label='nontarget')\n",
    "    plt.xticks(np.arange(0, 1.1, 0.1))\n",
    "    plt.xlabel(\"Second[s]\")\n",
    "    plt.ylabel(\"Amplitude[μV]\")\n",
    "    plt.title(channels[i], fontsize=18)\n",
    "    plt.legend()"
   ]
  },
  {
   "cell_type": "code",
   "execution_count": null,
   "metadata": {},
   "outputs": [],
   "source": [
    "O_target_ave = WaveAverage(O_target)\n",
    "O_nontarget_ave = WaveAverage(O_nontarget)\n",
    "\n",
    "tt = np.linspace(0, 1, O_target.shape[1])\n",
    "channel = 15\n",
    "plt.figure(figsize=(24, 18))\n",
    "plt.subplots_adjust(wspace=0.4, hspace=0.4)\n",
    "for i in range(len(channels)):\n",
    "    plt.subplot(4, 4, i+1)\n",
    "    plt.plot(tt, O_target_ave[:, i], 'r', label=\"target\")\n",
    "    plt.plot(tt, O_nontarget_ave[:, i], 'b', label=\"nontarget\")\n",
    "    plt.xticks(np.arange(0, 1.1, 0.1))\n",
    "    plt.xlabel(\"Second[s]\")\n",
    "    plt.ylabel(\"Amplitude[μV]\")\n",
    "    plt.title(channels[i], fontsize=18)\n",
    "#     plt.legend()"
   ]
  },
  {
   "cell_type": "markdown",
   "metadata": {},
   "source": [
    "## Target(O) vs non Target(P)"
   ]
  },
  {
   "cell_type": "code",
   "execution_count": null,
   "metadata": {},
   "outputs": [],
   "source": [
    "O_target = triggerExtract(O, 2)\n",
    "O_target = np.concatenate([O_target, triggerExtract(O, 8)], axis=0)\n",
    "\n",
    "O_nontarget = triggerExtract(O, 2)\n",
    "for num in [9]:\n",
    "    O_nontarget = np.concatenate([O_nontarget, triggerExtract(O, num)], axis=0)\n",
    "\n",
    "tt = np.linspace(0, 1, O_target.shape[1])\n",
    "\n",
    "plt.figure(figsize=(24, 18))\n",
    "plt.subplots_adjust(wspace=0.4, hspace=0.4)\n",
    "for i in range(len(channels)):\n",
    "    plt.subplot(4, 4, i+1)\n",
    "    plt.plot(tt, O_target[5, :, i], 'r', label='target')\n",
    "    plt.plot(tt, O_nontarget[-5, :, i], 'b', label='nontarget')\n",
    "    plt.xticks(np.arange(0, 1.1, 0.1))\n",
    "    plt.xlabel(\"Second[s]\")\n",
    "    plt.ylabel(\"Amplitude[μV]\")\n",
    "    plt.title(channels[i], fontsize=18)\n",
    "    plt.legend()"
   ]
  },
  {
   "cell_type": "code",
   "execution_count": null,
   "metadata": {},
   "outputs": [],
   "source": [
    "O_target_ave = WaveAverage(O_target)\n",
    "O_nontarget_ave = WaveAverage(O_nontarget)\n",
    "\n",
    "tt = np.linspace(0, 1, O_target.shape[1])\n",
    "channel = 15\n",
    "plt.figure(figsize=(24, 18))\n",
    "plt.subplots_adjust(wspace=0.4, hspace=0.4)\n",
    "for i in range(len(channels)):\n",
    "    plt.subplot(4, 4, i+1)\n",
    "    plt.plot(tt, O_target_ave[:, i], 'r', label=\"target\")\n",
    "    plt.plot(tt, O_nontarget_ave[:, i], 'b', label=\"nontarget\")\n",
    "    plt.xticks(np.arange(0, 1.1, 0.1))\n",
    "    plt.xlabel(\"Second[s]\")\n",
    "    plt.ylabel(\"Amplitude[μV]\")\n",
    "    plt.title(channels[i], fontsize=18)\n",
    "#     plt.legend()"
   ]
  },
  {
   "cell_type": "code",
   "execution_count": null,
   "metadata": {},
   "outputs": [],
   "source": []
  }
 ],
 "metadata": {
  "kernelspec": {
   "display_name": "Python 3",
   "language": "python",
   "name": "python3"
  },
  "language_info": {
   "codemirror_mode": {
    "name": "ipython",
    "version": 3
   },
   "file_extension": ".py",
   "mimetype": "text/x-python",
   "name": "python",
   "nbconvert_exporter": "python",
   "pygments_lexer": "ipython3",
   "version": "3.7.6"
  }
 },
 "nbformat": 4,
 "nbformat_minor": 4
}
